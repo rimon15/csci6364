{
 "cells": [
  {
   "cell_type": "markdown",
   "id": "c8410134",
   "metadata": {},
   "source": [
    "# Rimon Melamed\n",
    "## CSCI6364\n",
    "## HW2"
   ]
  },
  {
   "cell_type": "markdown",
   "id": "8e70fe13",
   "metadata": {},
   "source": [
    "## 1a\n",
    "\n"
   ]
  },
  {
   "cell_type": "code",
   "execution_count": null,
   "id": "971582ab",
   "metadata": {},
   "outputs": [],
   "source": []
  },
  {
   "cell_type": "markdown",
   "id": "ccbda02f",
   "metadata": {},
   "source": [
    "## 1b"
   ]
  },
  {
   "cell_type": "code",
   "execution_count": null,
   "id": "13908f88",
   "metadata": {},
   "outputs": [],
   "source": []
  },
  {
   "cell_type": "markdown",
   "id": "e2221127",
   "metadata": {},
   "source": [
    "## 1c"
   ]
  },
  {
   "cell_type": "markdown",
   "id": "67f2f4cb",
   "metadata": {},
   "source": [
    "We want to fit $y = ax + b$ to the data. As we already know, this is a linear regression problem, and since it is linear, it has an analytical solution in the form of: \n",
    "\n",
    "$$\\textbf{w} = (\\textbf{X}^T \\textbf{X})^{-1} \\textbf{X}^T \\textbf{t}$$\n",
    "\n",
    "Where in our case, $\\textbf{w} = \n",
    "    \\begin{bmatrix}\n",
    "        w_0 \\\\\n",
    "        w_1\n",
    "    \\end{bmatrix}$ where $w_0 = b$ and $w_1 = a$\n",
    "\n",
    "Thus, we can solve for the optimal parameters, $w_0, w_1$ using the analytical solution as follows:\n",
    "\n",
    "$$\\textbf{X} = \n",
    "    \\begin{bmatrix}\n",
    "        1 & 1 \\\\\n",
    "        1 & 1 \\\\\n",
    "        1 & 4 \\\\\n",
    "        1 & 4 \\\\\n",
    "    \\end{bmatrix}$$\n",
    "    \n",
    "$$\\textbf{X}^T \\textbf{X} = \n",
    "    \\begin{bmatrix}\n",
    "        1 & 1 & 1 & 1 \\\\\n",
    "        1 & 1 & 4 & 4 \\\\\n",
    "    \\end{bmatrix}\n",
    "    \\begin{bmatrix}\n",
    "        1 & 1 \\\\\n",
    "        1 & 1 \\\\\n",
    "        1 & 4 \\\\\n",
    "        1 & 4 \\\\\n",
    "    \\end{bmatrix} = \n",
    "    \\begin{bmatrix}\n",
    "        4 & 10 \\\\\n",
    "        10 & 34 \\\\\n",
    "    \\end{bmatrix}$$"
   ]
  },
  {
   "cell_type": "code",
   "execution_count": null,
   "id": "e8beacea",
   "metadata": {},
   "outputs": [],
   "source": []
  }
 ],
 "metadata": {
  "kernelspec": {
   "display_name": "Python 3",
   "language": "python",
   "name": "python3"
  },
  "language_info": {
   "codemirror_mode": {
    "name": "ipython",
    "version": 3
   },
   "file_extension": ".py",
   "mimetype": "text/x-python",
   "name": "python",
   "nbconvert_exporter": "python",
   "pygments_lexer": "ipython3",
   "version": "3.6.3"
  }
 },
 "nbformat": 4,
 "nbformat_minor": 5
}
