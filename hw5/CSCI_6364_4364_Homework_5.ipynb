{
 "cells": [
  {
   "cell_type": "markdown",
   "metadata": {},
   "source": [
    "Homework 5:  CSCI 6364/4364\n",
    "\n",
    "In this assignment, you will become familiar with the deep learning library Pytorch through the construction of a feed-forward neural network and a convolutional neural network applied to the MNIST dataset.  In various parts of the notebook, there will be places to fill in."
   ]
  },
  {
   "cell_type": "code",
   "execution_count": 1,
   "metadata": {},
   "outputs": [],
   "source": [
    "import numpy as np # to handle matrix and data operation\n",
    "import pandas as pd # to read csv and handle dataframe\n",
    "import csv\n",
    "\n",
    "import torch\n",
    "import torch.nn as nn\n",
    "import torch.nn.functional as F\n",
    "import torch.utils.data\n",
    "from torch.autograd import Variable\n",
    "import torch.optim as optim\n",
    "\n",
    "import matplotlib.pyplot as plt\n",
    "\n",
    "from sklearn.model_selection import train_test_split\n",
    "\n",
    "# CUDA?\n",
    "cuda = torch.cuda.is_available()\n",
    "\n",
    "# For reproducibility\n",
    "SEED = 1\n",
    "torch.manual_seed(SEED)\n",
    "\n",
    "device = torch.device(\"cuda:0\" if cuda else \"cpu\")\n",
    "if cuda:\n",
    "    torch.cuda.manual_seed(SEED)"
   ]
  },
  {
   "cell_type": "markdown",
   "metadata": {},
   "source": [
    "Download and use the MNIST dataset from Homework 1."
   ]
  },
  {
   "cell_type": "code",
   "execution_count": 2,
   "metadata": {},
   "outputs": [
    {
     "name": "stdout",
     "output_type": "stream",
     "text": [
      "(42000, 785)\n"
     ]
    }
   ],
   "source": [
    "dataset_filename = \"data_mnist.csv\"\n",
    "df = pd.read_csv(dataset_filename)\n",
    "print(df.shape)"
   ]
  },
  {
   "cell_type": "code",
   "execution_count": 3,
   "metadata": {},
   "outputs": [],
   "source": [
    "# I will use my own data-loading, which I used for the mnist dataset in previous homeworks\n",
    "def import_data(fname):\n",
    "    data_arr = []\n",
    "\n",
    "    with open(fname) as csv_file:\n",
    "        data_reader = csv.reader(csv_file, delimiter=',')\n",
    "        for row in data_reader:\n",
    "            data_arr.append(row)\n",
    "    return data_arr"
   ]
  },
  {
   "cell_type": "code",
   "execution_count": 4,
   "metadata": {},
   "outputs": [],
   "source": [
    "data_arr = import_data(\"data_mnist.csv\")\n",
    "y =  np.array([int(e[0]) for e in data_arr[1::]])\n",
    "X =  np.array([np.array(e[1::], dtype='uint8') for e in data_arr[1::]])\n",
    "\n",
    "\n",
    "X_train, X_test, y_train, y_test = train_test_split(X, y, test_size=0.15)"
   ]
  },
  {
   "cell_type": "code",
   "execution_count": 5,
   "metadata": {},
   "outputs": [
    {
     "name": "stdout",
     "output_type": "stream",
     "text": [
      "(6300,)\n",
      "(6300, 784)\n"
     ]
    }
   ],
   "source": [
    "print(y_test.shape)\n",
    "print(X_test.shape)"
   ]
  },
  {
   "cell_type": "code",
   "execution_count": 6,
   "metadata": {},
   "outputs": [],
   "source": [
    "BATCH_SIZE = 32\n",
    "\n",
    "torch_X_train = torch.from_numpy(X_train).type(torch.LongTensor).to(device) # need .to(device) to actually use cuda?\n",
    "torch_y_train = torch.from_numpy(y_train).type(torch.LongTensor).to(device) # data type is long\n",
    "\n",
    "# create feature and targets tensor for test set.\n",
    "torch_X_test = torch.from_numpy(X_test).type(torch.LongTensor).to(device) \n",
    "torch_y_test = torch.from_numpy(y_test).type(torch.LongTensor).to(device) # data type is long\n",
    "\n",
    "# Pytorch train and test sets\n",
    "train = torch.utils.data.TensorDataset(torch_X_train,torch_y_train)\n",
    "test = torch.utils.data.TensorDataset(torch_X_test,torch_y_test)\n",
    "\n",
    "# data loader\n",
    "train_loader = torch.utils.data.DataLoader(train, batch_size = BATCH_SIZE, shuffle = False)\n",
    "test_loader = torch.utils.data.DataLoader(test, batch_size = BATCH_SIZE, shuffle = False)"
   ]
  },
  {
   "cell_type": "code",
   "execution_count": 7,
   "metadata": {},
   "outputs": [
    {
     "name": "stdout",
     "output_type": "stream",
     "text": [
      "MLP(\n",
      "  (linear1): Linear(in_features=784, out_features=250, bias=True)\n",
      "  (linear2): Linear(in_features=250, out_features=100, bias=True)\n",
      "  (linear3): Linear(in_features=100, out_features=10, bias=True)\n",
      ")\n"
     ]
    }
   ],
   "source": [
    "input_dim = 784\n",
    "output_dim = 10\n",
    "class MLP(nn.Module):\n",
    "    def __init__(self):\n",
    "        super(MLP, self).__init__()\n",
    "        self.linear1 = nn.Linear(input_dim,250)\n",
    "        self.linear2 = nn.Linear(250,100)\n",
    "        self.linear3 = nn.Linear(100,output_dim)\n",
    "    \n",
    "    def forward(self,X):\n",
    "        X = F.relu(self.linear1(X))\n",
    "        X = F.relu(self.linear2(X))\n",
    "        X = self.linear3(X)\n",
    "        return F.log_softmax(X, dim=1)\n",
    " \n",
    "mlp = MLP()\n",
    "print(mlp)"
   ]
  },
  {
   "cell_type": "code",
   "execution_count": 8,
   "metadata": {},
   "outputs": [],
   "source": [
    "def fit(model, train_loader):\n",
    "    optimizer = torch.optim.Adam(model.parameters())\n",
    "    error = nn.CrossEntropyLoss()\n",
    "    EPOCHS = 5\n",
    "    model.train()\n",
    "    for epoch in range(EPOCHS):\n",
    "        correct = 0\n",
    "        for batch_idx, (X_batch, y_batch) in enumerate(train_loader):\n",
    "            var_X_batch = Variable(X_batch).float()\n",
    "            var_y_batch = Variable(y_batch)\n",
    "            optimizer.zero_grad()\n",
    "            output = model(var_X_batch)\n",
    "            loss = error(output, var_y_batch)\n",
    "            loss.backward()\n",
    "            optimizer.step()\n",
    "\n",
    "            # Total correct predictions\n",
    "            predicted = torch.max(output.data, 1)[1] \n",
    "            correct += (predicted == var_y_batch).sum()\n",
    "            #print(correct)\n",
    "            if batch_idx % 50 == 0:\n",
    "                print('Epoch : {} [{}/{} ({:.0f}%)]\\tLoss: {:.6f}\\t Accuracy:{:.3f}%'.format(\n",
    "                    epoch, batch_idx*len(X_batch), len(train_loader.dataset), 100.*batch_idx / len(train_loader), loss.data, float(correct*100) / float(BATCH_SIZE*(batch_idx+1))))"
   ]
  },
  {
   "cell_type": "code",
   "execution_count": 9,
   "metadata": {},
   "outputs": [
    {
     "name": "stdout",
     "output_type": "stream",
     "text": [
      "Epoch : 0 [0/35700 (0%)]\tLoss: 14.431194\t Accuracy:9.375%\n",
      "Epoch : 0 [1600/35700 (4%)]\tLoss: 0.538039\t Accuracy:68.260%\n",
      "Epoch : 0 [3200/35700 (9%)]\tLoss: 0.404149\t Accuracy:76.269%\n",
      "Epoch : 0 [4800/35700 (13%)]\tLoss: 1.032198\t Accuracy:80.091%\n",
      "Epoch : 0 [6400/35700 (18%)]\tLoss: 0.186923\t Accuracy:82.167%\n",
      "Epoch : 0 [8000/35700 (22%)]\tLoss: 0.226431\t Accuracy:83.503%\n",
      "Epoch : 0 [9600/35700 (27%)]\tLoss: 0.206797\t Accuracy:84.593%\n",
      "Epoch : 0 [11200/35700 (31%)]\tLoss: 0.391301\t Accuracy:85.390%\n",
      "Epoch : 0 [12800/35700 (36%)]\tLoss: 0.791081\t Accuracy:86.027%\n",
      "Epoch : 0 [14400/35700 (40%)]\tLoss: 0.467837\t Accuracy:86.662%\n",
      "Epoch : 0 [16000/35700 (45%)]\tLoss: 0.553463\t Accuracy:87.138%\n",
      "Epoch : 0 [17600/35700 (49%)]\tLoss: 0.209098\t Accuracy:87.704%\n",
      "Epoch : 0 [19200/35700 (54%)]\tLoss: 0.091053\t Accuracy:88.124%\n",
      "Epoch : 0 [20800/35700 (58%)]\tLoss: 0.350644\t Accuracy:88.470%\n",
      "Epoch : 0 [22400/35700 (63%)]\tLoss: 0.268430\t Accuracy:88.730%\n",
      "Epoch : 0 [24000/35700 (67%)]\tLoss: 0.151700\t Accuracy:88.994%\n",
      "Epoch : 0 [25600/35700 (72%)]\tLoss: 0.037050\t Accuracy:89.287%\n",
      "Epoch : 0 [27200/35700 (76%)]\tLoss: 0.169500\t Accuracy:89.553%\n",
      "Epoch : 0 [28800/35700 (81%)]\tLoss: 0.249683\t Accuracy:89.800%\n",
      "Epoch : 0 [30400/35700 (85%)]\tLoss: 0.066736\t Accuracy:90.053%\n",
      "Epoch : 0 [32000/35700 (90%)]\tLoss: 0.272197\t Accuracy:90.200%\n",
      "Epoch : 0 [33600/35700 (94%)]\tLoss: 0.163447\t Accuracy:90.360%\n",
      "Epoch : 0 [35200/35700 (99%)]\tLoss: 0.184864\t Accuracy:90.523%\n",
      "Epoch : 1 [0/35700 (0%)]\tLoss: 0.092227\t Accuracy:96.875%\n",
      "Epoch : 1 [1600/35700 (4%)]\tLoss: 0.039338\t Accuracy:94.363%\n",
      "Epoch : 1 [3200/35700 (9%)]\tLoss: 0.044047\t Accuracy:94.524%\n",
      "Epoch : 1 [4800/35700 (13%)]\tLoss: 0.177540\t Accuracy:94.288%\n",
      "Epoch : 1 [6400/35700 (18%)]\tLoss: 0.094786\t Accuracy:94.356%\n",
      "Epoch : 1 [8000/35700 (22%)]\tLoss: 0.079513\t Accuracy:94.360%\n",
      "Epoch : 1 [9600/35700 (27%)]\tLoss: 0.071217\t Accuracy:94.498%\n",
      "Epoch : 1 [11200/35700 (31%)]\tLoss: 0.113979\t Accuracy:94.462%\n",
      "Epoch : 1 [12800/35700 (36%)]\tLoss: 0.571413\t Accuracy:94.475%\n",
      "Epoch : 1 [14400/35700 (40%)]\tLoss: 0.193474\t Accuracy:94.505%\n",
      "Epoch : 1 [16000/35700 (45%)]\tLoss: 0.393417\t Accuracy:94.586%\n",
      "Epoch : 1 [17600/35700 (49%)]\tLoss: 0.071502\t Accuracy:94.674%\n",
      "Epoch : 1 [19200/35700 (54%)]\tLoss: 0.097599\t Accuracy:94.650%\n",
      "Epoch : 1 [20800/35700 (58%)]\tLoss: 0.233297\t Accuracy:94.676%\n",
      "Epoch : 1 [22400/35700 (63%)]\tLoss: 0.058283\t Accuracy:94.691%\n",
      "Epoch : 1 [24000/35700 (67%)]\tLoss: 0.129490\t Accuracy:94.745%\n",
      "Epoch : 1 [25600/35700 (72%)]\tLoss: 0.039621\t Accuracy:94.776%\n",
      "Epoch : 1 [27200/35700 (76%)]\tLoss: 0.070557\t Accuracy:94.771%\n",
      "Epoch : 1 [28800/35700 (81%)]\tLoss: 0.322715\t Accuracy:94.811%\n",
      "Epoch : 1 [30400/35700 (85%)]\tLoss: 0.181853\t Accuracy:94.877%\n",
      "Epoch : 1 [32000/35700 (90%)]\tLoss: 0.168224\t Accuracy:94.936%\n",
      "Epoch : 1 [33600/35700 (94%)]\tLoss: 0.037328\t Accuracy:94.981%\n",
      "Epoch : 1 [35200/35700 (99%)]\tLoss: 0.086068\t Accuracy:94.993%\n",
      "Epoch : 2 [0/35700 (0%)]\tLoss: 0.025021\t Accuracy:100.000%\n",
      "Epoch : 2 [1600/35700 (4%)]\tLoss: 0.090334\t Accuracy:95.159%\n",
      "Epoch : 2 [3200/35700 (9%)]\tLoss: 0.068617\t Accuracy:95.266%\n",
      "Epoch : 2 [4800/35700 (13%)]\tLoss: 0.452602\t Accuracy:95.199%\n",
      "Epoch : 2 [6400/35700 (18%)]\tLoss: 0.065441\t Accuracy:95.569%\n",
      "Epoch : 2 [8000/35700 (22%)]\tLoss: 0.081006\t Accuracy:95.630%\n",
      "Epoch : 2 [9600/35700 (27%)]\tLoss: 0.070863\t Accuracy:95.629%\n",
      "Epoch : 2 [11200/35700 (31%)]\tLoss: 0.070659\t Accuracy:95.762%\n",
      "Epoch : 2 [12800/35700 (36%)]\tLoss: 0.382109\t Accuracy:95.807%\n",
      "Epoch : 2 [14400/35700 (40%)]\tLoss: 0.439257\t Accuracy:95.829%\n",
      "Epoch : 2 [16000/35700 (45%)]\tLoss: 0.179944\t Accuracy:95.827%\n",
      "Epoch : 2 [17600/35700 (49%)]\tLoss: 0.024656\t Accuracy:95.922%\n",
      "Epoch : 2 [19200/35700 (54%)]\tLoss: 0.022622\t Accuracy:95.944%\n",
      "Epoch : 2 [20800/35700 (58%)]\tLoss: 0.134143\t Accuracy:96.073%\n",
      "Epoch : 2 [22400/35700 (63%)]\tLoss: 0.096528\t Accuracy:96.068%\n",
      "Epoch : 2 [24000/35700 (67%)]\tLoss: 0.161787\t Accuracy:96.043%\n",
      "Epoch : 2 [25600/35700 (72%)]\tLoss: 0.045940\t Accuracy:96.025%\n",
      "Epoch : 2 [27200/35700 (76%)]\tLoss: 0.175940\t Accuracy:95.983%\n",
      "Epoch : 2 [28800/35700 (81%)]\tLoss: 0.508980\t Accuracy:95.945%\n",
      "Epoch : 2 [30400/35700 (85%)]\tLoss: 0.059787\t Accuracy:95.965%\n",
      "Epoch : 2 [32000/35700 (90%)]\tLoss: 0.067733\t Accuracy:95.970%\n",
      "Epoch : 2 [33600/35700 (94%)]\tLoss: 0.075910\t Accuracy:95.977%\n",
      "Epoch : 2 [35200/35700 (99%)]\tLoss: 0.046637\t Accuracy:95.958%\n",
      "Epoch : 3 [0/35700 (0%)]\tLoss: 0.016718\t Accuracy:100.000%\n",
      "Epoch : 3 [1600/35700 (4%)]\tLoss: 0.056289\t Accuracy:95.895%\n",
      "Epoch : 3 [3200/35700 (9%)]\tLoss: 0.100153\t Accuracy:95.978%\n",
      "Epoch : 3 [4800/35700 (13%)]\tLoss: 0.451504\t Accuracy:95.840%\n",
      "Epoch : 3 [6400/35700 (18%)]\tLoss: 0.018685\t Accuracy:95.802%\n",
      "Epoch : 3 [8000/35700 (22%)]\tLoss: 0.065140\t Accuracy:95.842%\n",
      "Epoch : 3 [9600/35700 (27%)]\tLoss: 0.013921\t Accuracy:95.878%\n",
      "Epoch : 3 [11200/35700 (31%)]\tLoss: 0.149496\t Accuracy:95.976%\n",
      "Epoch : 3 [12800/35700 (36%)]\tLoss: 0.189567\t Accuracy:96.033%\n",
      "Epoch : 3 [14400/35700 (40%)]\tLoss: 0.144866\t Accuracy:96.161%\n",
      "Epoch : 3 [16000/35700 (45%)]\tLoss: 0.187785\t Accuracy:96.208%\n",
      "Epoch : 3 [17600/35700 (49%)]\tLoss: 0.093977\t Accuracy:96.183%\n",
      "Epoch : 3 [19200/35700 (54%)]\tLoss: 0.041069\t Accuracy:96.126%\n",
      "Epoch : 3 [20800/35700 (58%)]\tLoss: 0.257825\t Accuracy:96.193%\n",
      "Epoch : 3 [22400/35700 (63%)]\tLoss: 0.044071\t Accuracy:96.215%\n",
      "Epoch : 3 [24000/35700 (67%)]\tLoss: 0.116969\t Accuracy:96.205%\n",
      "Epoch : 3 [25600/35700 (72%)]\tLoss: 0.023923\t Accuracy:96.227%\n",
      "Epoch : 3 [27200/35700 (76%)]\tLoss: 0.111677\t Accuracy:96.199%\n",
      "Epoch : 3 [28800/35700 (81%)]\tLoss: 0.325031\t Accuracy:96.206%\n",
      "Epoch : 3 [30400/35700 (85%)]\tLoss: 0.100941\t Accuracy:96.241%\n",
      "Epoch : 3 [32000/35700 (90%)]\tLoss: 0.177445\t Accuracy:96.282%\n",
      "Epoch : 3 [33600/35700 (94%)]\tLoss: 0.157953\t Accuracy:96.286%\n",
      "Epoch : 3 [35200/35700 (99%)]\tLoss: 0.111028\t Accuracy:96.296%\n",
      "Epoch : 4 [0/35700 (0%)]\tLoss: 0.017254\t Accuracy:100.000%\n",
      "Epoch : 4 [1600/35700 (4%)]\tLoss: 0.038900\t Accuracy:97.059%\n",
      "Epoch : 4 [3200/35700 (9%)]\tLoss: 0.078470\t Accuracy:97.123%\n",
      "Epoch : 4 [4800/35700 (13%)]\tLoss: 0.267748\t Accuracy:96.854%\n",
      "Epoch : 4 [6400/35700 (18%)]\tLoss: 0.280162\t Accuracy:96.906%\n",
      "Epoch : 4 [8000/35700 (22%)]\tLoss: 0.032407\t Accuracy:96.900%\n",
      "Epoch : 4 [9600/35700 (27%)]\tLoss: 0.084146\t Accuracy:96.813%\n",
      "Epoch : 4 [11200/35700 (31%)]\tLoss: 0.021233\t Accuracy:96.804%\n",
      "Epoch : 4 [12800/35700 (36%)]\tLoss: 0.287334\t Accuracy:96.820%\n",
      "Epoch : 4 [14400/35700 (40%)]\tLoss: 0.151225\t Accuracy:96.917%\n",
      "Epoch : 4 [16000/35700 (45%)]\tLoss: 0.350913\t Accuracy:96.894%\n",
      "Epoch : 4 [17600/35700 (49%)]\tLoss: 0.232765\t Accuracy:96.858%\n",
      "Epoch : 4 [19200/35700 (54%)]\tLoss: 0.015416\t Accuracy:96.807%\n",
      "Epoch : 4 [20800/35700 (58%)]\tLoss: 0.111510\t Accuracy:96.865%\n",
      "Epoch : 4 [22400/35700 (63%)]\tLoss: 0.040425\t Accuracy:96.893%\n",
      "Epoch : 4 [24000/35700 (67%)]\tLoss: 0.032525\t Accuracy:96.896%\n",
      "Epoch : 4 [25600/35700 (72%)]\tLoss: 0.024036\t Accuracy:96.906%\n",
      "Epoch : 4 [27200/35700 (76%)]\tLoss: 0.228395\t Accuracy:96.901%\n",
      "Epoch : 4 [28800/35700 (81%)]\tLoss: 0.335346\t Accuracy:96.892%\n",
      "Epoch : 4 [30400/35700 (85%)]\tLoss: 0.014553\t Accuracy:96.888%\n",
      "Epoch : 4 [32000/35700 (90%)]\tLoss: 0.156577\t Accuracy:96.878%\n",
      "Epoch : 4 [33600/35700 (94%)]\tLoss: 0.384134\t Accuracy:96.866%\n",
      "Epoch : 4 [35200/35700 (99%)]\tLoss: 0.148392\t Accuracy:96.835%\n"
     ]
    }
   ],
   "source": [
    "mlp = mlp.to(device) # need to specify the device for the model itself?\n",
    "fit(mlp, train_loader)"
   ]
  },
  {
   "cell_type": "code",
   "execution_count": 10,
   "metadata": {},
   "outputs": [
    {
     "name": "stdout",
     "output_type": "stream",
     "text": [
      "1\n",
      "tensor(1, device='cuda:0')\n"
     ]
    },
    {
     "data": {
      "image/png": "[encoded data removed]",
      "text/plain": [
       "<Figure size 432x288 with 1 Axes>"
      ]
     },
     "metadata": {
      "needs_background": "light"
     },
     "output_type": "display_data"
    }
   ],
   "source": [
    "mlp.eval()              # turn the model to evaluate mode\n",
    "index = 200\n",
    "torch_X_test = torch.from_numpy(X_test).type(torch.LongTensor).to(device)\n",
    "image = torch_X_test[index].float().unsqueeze(0)\n",
    "true_label = y_test[index]\n",
    "with torch.no_grad():     # does not calculate gradient\n",
    "    class_index = mlp(image).argmax()   #gets the prediction for the image's class\n",
    "plt.imshow(image.cpu().numpy().reshape(28,28), cmap='gray_r'); # need to reshape to (28, 28) rather than (28, 28, 1), and use .cpu() to go back from cuda to numpy ?\n",
    "print(true_label)\n",
    "print(class_index)"
   ]
  },
  {
   "cell_type": "code",
   "execution_count": 11,
   "metadata": {},
   "outputs": [
    {
     "name": "stdout",
     "output_type": "stream",
     "text": [
      "torch.Size([35700, 1, 28, 28])\n",
      "torch.Size([6300, 1, 28, 28])\n"
     ]
    }
   ],
   "source": [
    "torch_X_train = torch_X_train.view(-1, 1,28,28).float()\n",
    "torch_X_test = torch_X_test.view(-1,1,28,28).float()\n",
    "print(torch_X_train.shape)\n",
    "print(torch_X_test.shape)\n",
    "\n",
    "# Pytorch train and test sets\n",
    "train = torch.utils.data.TensorDataset(torch_X_train,torch_y_train)\n",
    "test = torch.utils.data.TensorDataset(torch_X_test,torch_y_test)\n",
    "\n",
    "# data loader\n",
    "train_loader = torch.utils.data.DataLoader(train, batch_size = BATCH_SIZE, shuffle = False)\n",
    "test_loader = torch.utils.data.DataLoader(test, batch_size = BATCH_SIZE, shuffle = False)"
   ]
  },
  {
   "cell_type": "code",
   "execution_count": 12,
   "metadata": {},
   "outputs": [
    {
     "name": "stdout",
     "output_type": "stream",
     "text": [
      "CNN(\n",
      "  (conv1): Conv2d(1, 32, kernel_size=(5, 5), stride=(1, 1))\n",
      "  (conv2): Conv2d(32, 32, kernel_size=(5, 5), stride=(1, 1))\n",
      "  (conv3): Conv2d(32, 64, kernel_size=(5, 5), stride=(1, 1))\n",
      "  (fc1): Linear(in_features=576, out_features=256, bias=True)\n",
      "  (fc2): Linear(in_features=256, out_features=10, bias=True)\n",
      ")\n",
      "torch.Size([32, 10])\n"
     ]
    }
   ],
   "source": [
    "class CNN(nn.Module):\n",
    "    def __init__(self):\n",
    "        super(CNN, self).__init__()\n",
    "        self.conv1 = nn.Conv2d(1, 32, kernel_size=5)\n",
    "        self.conv2 = nn.Conv2d(32, 32, kernel_size=5)\n",
    "        self.conv3 = nn.Conv2d(32,64, kernel_size=5)\n",
    "        self.fc1 = nn.Linear(3*3*64, 256)\n",
    "        self.fc2 = nn.Linear(256, 10)\n",
    "\n",
    "    def forward(self, x):\n",
    "        x = F.relu(self.conv1(x))\n",
    "        x = F.relu(F.max_pool2d(self.conv2(x), 2))\n",
    "        x = F.dropout(x, p=0.5, training=self.training)\n",
    "        x = F.relu(F.max_pool2d(self.conv3(x),2))\n",
    "        x = F.dropout(x, p=0.5, training=self.training)\n",
    "        x = x.view(-1,3*3*64 )\n",
    "        x = F.relu(self.fc1(x))\n",
    "        x = F.dropout(x, training=self.training)\n",
    "        x = self.fc2(x)\n",
    "        return F.log_softmax(x, dim=1)\n",
    " \n",
    "cnn = CNN().to(device)\n",
    "print(cnn)\n",
    "\n",
    "it = iter(train_loader)\n",
    "X_batch, y_batch = next(it)\n",
    "print(cnn.forward(X_batch).shape)"
   ]
  },
  {
   "cell_type": "code",
   "execution_count": 13,
   "metadata": {},
   "outputs": [
    {
     "name": "stdout",
     "output_type": "stream",
     "text": [
      "Epoch : 0 [0/35700 (0%)]\tLoss: 18.775633\t Accuracy:0.000%\n",
      "Epoch : 0 [1600/35700 (4%)]\tLoss: 1.782842\t Accuracy:17.647%\n",
      "Epoch : 0 [3200/35700 (9%)]\tLoss: 1.383891\t Accuracy:30.600%\n",
      "Epoch : 0 [4800/35700 (13%)]\tLoss: 0.864492\t Accuracy:41.556%\n",
      "Epoch : 0 [6400/35700 (18%)]\tLoss: 0.656621\t Accuracy:50.093%\n",
      "Epoch : 0 [8000/35700 (22%)]\tLoss: 0.441207\t Accuracy:55.914%\n",
      "Epoch : 0 [9600/35700 (27%)]\tLoss: 0.556965\t Accuracy:60.413%\n",
      "Epoch : 0 [11200/35700 (31%)]\tLoss: 0.630217\t Accuracy:63.515%\n",
      "Epoch : 0 [12800/35700 (36%)]\tLoss: 0.621140\t Accuracy:66.365%\n",
      "Epoch : 0 [14400/35700 (40%)]\tLoss: 0.563681\t Accuracy:68.598%\n",
      "Epoch : 0 [16000/35700 (45%)]\tLoss: 0.980275\t Accuracy:70.553%\n",
      "Epoch : 0 [17600/35700 (49%)]\tLoss: 0.319063\t Accuracy:72.142%\n",
      "Epoch : 0 [19200/35700 (54%)]\tLoss: 0.565857\t Accuracy:73.445%\n",
      "Epoch : 0 [20800/35700 (58%)]\tLoss: 0.232893\t Accuracy:74.693%\n",
      "Epoch : 0 [22400/35700 (63%)]\tLoss: 0.181844\t Accuracy:75.785%\n",
      "Epoch : 0 [24000/35700 (67%)]\tLoss: 0.253259\t Accuracy:76.714%\n",
      "Epoch : 0 [25600/35700 (72%)]\tLoss: 0.212853\t Accuracy:77.684%\n",
      "Epoch : 0 [27200/35700 (76%)]\tLoss: 0.416366\t Accuracy:78.478%\n",
      "Epoch : 0 [28800/35700 (81%)]\tLoss: 0.501527\t Accuracy:79.159%\n",
      "Epoch : 0 [30400/35700 (85%)]\tLoss: 0.339230\t Accuracy:79.791%\n",
      "Epoch : 0 [32000/35700 (90%)]\tLoss: 0.279948\t Accuracy:80.260%\n",
      "Epoch : 0 [33600/35700 (94%)]\tLoss: 0.078110\t Accuracy:80.771%\n",
      "Epoch : 0 [35200/35700 (99%)]\tLoss: 0.133036\t Accuracy:81.253%\n",
      "Epoch : 1 [0/35700 (0%)]\tLoss: 0.262927\t Accuracy:93.750%\n",
      "Epoch : 1 [1600/35700 (4%)]\tLoss: 0.143791\t Accuracy:90.502%\n",
      "Epoch : 1 [3200/35700 (9%)]\tLoss: 0.279148\t Accuracy:90.873%\n",
      "Epoch : 1 [4800/35700 (13%)]\tLoss: 0.087797\t Accuracy:91.474%\n",
      "Epoch : 1 [6400/35700 (18%)]\tLoss: 0.083051\t Accuracy:92.024%\n",
      "Epoch : 1 [8000/35700 (22%)]\tLoss: 0.169379\t Accuracy:92.343%\n",
      "Epoch : 1 [9600/35700 (27%)]\tLoss: 0.289241\t Accuracy:92.213%\n",
      "Epoch : 1 [11200/35700 (31%)]\tLoss: 0.123270\t Accuracy:92.192%\n",
      "Epoch : 1 [12800/35700 (36%)]\tLoss: 0.203754\t Accuracy:92.238%\n",
      "Epoch : 1 [14400/35700 (40%)]\tLoss: 0.463900\t Accuracy:92.427%\n",
      "Epoch : 1 [16000/35700 (45%)]\tLoss: 0.446179\t Accuracy:92.577%\n",
      "Epoch : 1 [17600/35700 (49%)]\tLoss: 0.124451\t Accuracy:92.616%\n",
      "Epoch : 1 [19200/35700 (54%)]\tLoss: 0.094473\t Accuracy:92.710%\n",
      "Epoch : 1 [20800/35700 (58%)]\tLoss: 0.259604\t Accuracy:92.819%\n",
      "Epoch : 1 [22400/35700 (63%)]\tLoss: 0.101255\t Accuracy:92.885%\n",
      "Epoch : 1 [24000/35700 (67%)]\tLoss: 0.105619\t Accuracy:92.897%\n",
      "Epoch : 1 [25600/35700 (72%)]\tLoss: 0.156450\t Accuracy:92.997%\n",
      "Epoch : 1 [27200/35700 (76%)]\tLoss: 0.106670\t Accuracy:93.045%\n",
      "Epoch : 1 [28800/35700 (81%)]\tLoss: 0.315528\t Accuracy:93.133%\n",
      "Epoch : 1 [30400/35700 (85%)]\tLoss: 0.175867\t Accuracy:93.198%\n",
      "Epoch : 1 [32000/35700 (90%)]\tLoss: 0.069262\t Accuracy:93.197%\n",
      "Epoch : 1 [33600/35700 (94%)]\tLoss: 0.099826\t Accuracy:93.176%\n",
      "Epoch : 1 [35200/35700 (99%)]\tLoss: 0.202436\t Accuracy:93.214%\n",
      "Epoch : 2 [0/35700 (0%)]\tLoss: 0.306117\t Accuracy:93.750%\n",
      "Epoch : 2 [1600/35700 (4%)]\tLoss: 0.173150\t Accuracy:93.444%\n",
      "Epoch : 2 [3200/35700 (9%)]\tLoss: 0.262350\t Accuracy:93.998%\n",
      "Epoch : 2 [4800/35700 (13%)]\tLoss: 0.072420\t Accuracy:93.957%\n",
      "Epoch : 2 [6400/35700 (18%)]\tLoss: 0.146995\t Accuracy:94.170%\n",
      "Epoch : 2 [8000/35700 (22%)]\tLoss: 0.122177\t Accuracy:94.136%\n",
      "Epoch : 2 [9600/35700 (27%)]\tLoss: 0.044150\t Accuracy:94.186%\n",
      "Epoch : 2 [11200/35700 (31%)]\tLoss: 0.086394\t Accuracy:94.240%\n",
      "Epoch : 2 [12800/35700 (36%)]\tLoss: 0.397587\t Accuracy:94.334%\n",
      "Epoch : 2 [14400/35700 (40%)]\tLoss: 0.368333\t Accuracy:94.464%\n",
      "Epoch : 2 [16000/35700 (45%)]\tLoss: 0.251333\t Accuracy:94.561%\n",
      "Epoch : 2 [17600/35700 (49%)]\tLoss: 0.131143\t Accuracy:94.521%\n",
      "Epoch : 2 [19200/35700 (54%)]\tLoss: 0.144831\t Accuracy:94.546%\n",
      "Epoch : 2 [20800/35700 (58%)]\tLoss: 0.220488\t Accuracy:94.484%\n",
      "Epoch : 2 [22400/35700 (63%)]\tLoss: 0.172057\t Accuracy:94.428%\n",
      "Epoch : 2 [24000/35700 (67%)]\tLoss: 0.285439\t Accuracy:94.358%\n",
      "Epoch : 2 [25600/35700 (72%)]\tLoss: 0.147832\t Accuracy:94.343%\n",
      "Epoch : 2 [27200/35700 (76%)]\tLoss: 0.184394\t Accuracy:94.367%\n",
      "Epoch : 2 [28800/35700 (81%)]\tLoss: 0.219697\t Accuracy:94.412%\n",
      "Epoch : 2 [30400/35700 (85%)]\tLoss: 0.205866\t Accuracy:94.437%\n",
      "Epoch : 2 [32000/35700 (90%)]\tLoss: 0.091352\t Accuracy:94.402%\n",
      "Epoch : 2 [33600/35700 (94%)]\tLoss: 0.197253\t Accuracy:94.389%\n",
      "Epoch : 2 [35200/35700 (99%)]\tLoss: 0.018935\t Accuracy:94.360%\n",
      "Epoch : 3 [0/35700 (0%)]\tLoss: 0.318332\t Accuracy:96.875%\n",
      "Epoch : 3 [1600/35700 (4%)]\tLoss: 0.151665\t Accuracy:95.221%\n",
      "Epoch : 3 [3200/35700 (9%)]\tLoss: 0.097137\t Accuracy:94.926%\n",
      "Epoch : 3 [4800/35700 (13%)]\tLoss: 0.078123\t Accuracy:95.033%\n",
      "Epoch : 3 [6400/35700 (18%)]\tLoss: 0.187113\t Accuracy:95.180%\n",
      "Epoch : 3 [8000/35700 (22%)]\tLoss: 0.255956\t Accuracy:95.070%\n",
      "Epoch : 3 [9600/35700 (27%)]\tLoss: 0.040707\t Accuracy:95.089%\n",
      "Epoch : 3 [11200/35700 (31%)]\tLoss: 0.125629\t Accuracy:95.094%\n",
      "Epoch : 3 [12800/35700 (36%)]\tLoss: 0.232449\t Accuracy:95.036%\n",
      "Epoch : 3 [14400/35700 (40%)]\tLoss: 0.212538\t Accuracy:94.970%\n",
      "Epoch : 3 [16000/35700 (45%)]\tLoss: 0.257996\t Accuracy:95.041%\n",
      "Epoch : 3 [17600/35700 (49%)]\tLoss: 0.068578\t Accuracy:95.071%\n",
      "Epoch : 3 [19200/35700 (54%)]\tLoss: 0.049356\t Accuracy:95.066%\n",
      "Epoch : 3 [20800/35700 (58%)]\tLoss: 0.186664\t Accuracy:95.065%\n",
      "Epoch : 3 [22400/35700 (63%)]\tLoss: 0.060675\t Accuracy:95.083%\n",
      "Epoch : 3 [24000/35700 (67%)]\tLoss: 0.132088\t Accuracy:95.065%\n",
      "Epoch : 3 [25600/35700 (72%)]\tLoss: 0.206936\t Accuracy:95.037%\n",
      "Epoch : 3 [27200/35700 (76%)]\tLoss: 0.609035\t Accuracy:95.032%\n",
      "Epoch : 3 [28800/35700 (81%)]\tLoss: 0.111515\t Accuracy:94.992%\n",
      "Epoch : 3 [30400/35700 (85%)]\tLoss: 0.235805\t Accuracy:94.999%\n",
      "Epoch : 3 [32000/35700 (90%)]\tLoss: 0.091493\t Accuracy:95.017%\n",
      "Epoch : 3 [33600/35700 (94%)]\tLoss: 0.105060\t Accuracy:95.020%\n",
      "Epoch : 3 [35200/35700 (99%)]\tLoss: 0.170961\t Accuracy:95.033%\n",
      "Epoch : 4 [0/35700 (0%)]\tLoss: 0.001042\t Accuracy:100.000%\n",
      "Epoch : 4 [1600/35700 (4%)]\tLoss: 0.294996\t Accuracy:94.424%\n",
      "Epoch : 4 [3200/35700 (9%)]\tLoss: 0.087499\t Accuracy:94.585%\n",
      "Epoch : 4 [4800/35700 (13%)]\tLoss: 0.272310\t Accuracy:94.599%\n",
      "Epoch : 4 [6400/35700 (18%)]\tLoss: 0.128335\t Accuracy:94.636%\n",
      "Epoch : 4 [8000/35700 (22%)]\tLoss: 0.272235\t Accuracy:94.684%\n",
      "Epoch : 4 [9600/35700 (27%)]\tLoss: 0.132430\t Accuracy:94.705%\n",
      "Epoch : 4 [11200/35700 (31%)]\tLoss: 0.121843\t Accuracy:94.738%\n",
      "Epoch : 4 [12800/35700 (36%)]\tLoss: 0.121463\t Accuracy:94.771%\n",
      "Epoch : 4 [14400/35700 (40%)]\tLoss: 0.120207\t Accuracy:94.921%\n",
      "Epoch : 4 [16000/35700 (45%)]\tLoss: 0.256330\t Accuracy:95.041%\n",
      "Epoch : 4 [17600/35700 (49%)]\tLoss: 0.092063\t Accuracy:94.992%\n",
      "Epoch : 4 [19200/35700 (54%)]\tLoss: 0.124676\t Accuracy:94.972%\n",
      "Epoch : 4 [20800/35700 (58%)]\tLoss: 0.414177\t Accuracy:94.988%\n",
      "Epoch : 4 [22400/35700 (63%)]\tLoss: 0.063852\t Accuracy:95.025%\n",
      "Epoch : 4 [24000/35700 (67%)]\tLoss: 0.112319\t Accuracy:95.027%\n",
      "Epoch : 4 [25600/35700 (72%)]\tLoss: 0.124312\t Accuracy:95.022%\n",
      "Epoch : 4 [27200/35700 (76%)]\tLoss: 0.048469\t Accuracy:95.065%\n",
      "Epoch : 4 [28800/35700 (81%)]\tLoss: 0.064574\t Accuracy:95.137%\n",
      "Epoch : 4 [30400/35700 (85%)]\tLoss: 0.089929\t Accuracy:95.160%\n",
      "Epoch : 4 [32000/35700 (90%)]\tLoss: 0.124894\t Accuracy:95.142%\n",
      "Epoch : 4 [33600/35700 (94%)]\tLoss: 0.071191\t Accuracy:95.136%\n",
      "Epoch : 4 [35200/35700 (99%)]\tLoss: 0.029183\t Accuracy:95.107%\n"
     ]
    }
   ],
   "source": [
    "fit(cnn,train_loader)"
   ]
  },
  {
   "cell_type": "code",
   "execution_count": 14,
   "metadata": {},
   "outputs": [
    {
     "name": "stdout",
     "output_type": "stream",
     "text": [
      "9\n",
      "tensor(9, device='cuda:0')\n"
     ]
    },
    {
     "data": {
      "image/png": "[encoded data removed]",
      "text/plain": [
       "<Figure size 432x288 with 1 Axes>"
      ]
     },
     "metadata": {
      "needs_background": "light"
     },
     "output_type": "display_data"
    }
   ],
   "source": [
    "cnn.eval()              # turn the model to evaluate mode\n",
    "index = 100\n",
    "torch_X_test = torch_X_test.view(-1,1,28,28).float().type(torch.LongTensor).to(device)\n",
    "image = torch_X_test[index].float().unsqueeze(0)\n",
    "true_label = y_test[index]\n",
    "with torch.no_grad():     # does not calculate gradient\n",
    "    class_index = cnn(image).argmax()   #gets the prediction for the image's class\n",
    "plt.imshow(image.cpu().numpy().reshape(28,28), cmap='gray_r');\n",
    "print(true_label)\n",
    "print(class_index)"
   ]
  },
  {
   "cell_type": "markdown",
   "metadata": {},
   "source": [
    "Describe the performance of the MLP and CNN models? Performance can include training time, accuracy, etc.\n",
    "\n",
    "As we can see, the MLP model performs with about the same accuracy as the CNN model. This is actually quite surprising, as I would expect the CNN to perform better in regards to accuracy as it encodes spatial information much better (but I guess since the mnist dataset is normalized, it doesn't make too much of a difference). In terms of performance, it was as expected, with the CNN having a shorter training time. Since the MLP has fully connected hidden layers, it will have many more parameters than the much more efficient CNN. Overall, the performance of the MLP and CNN are very similar, since the MNIST dataset does not contain temporal or spatial dependencies, and is completely normalized in terms of the pixels. However, the connections in the layers of the MLP increase the training time over the CNN."
   ]
  },
  {
   "cell_type": "markdown",
   "metadata": {},
   "source": [
    "Extra Credit: Describe the below code and the output\n",
    "\n",
    "The code first selects a training sample, then outputs the class of the selected training sample. Then, the code gets the vector of predictions for each class (size 10, logits), and selects the one with highest probability. Then, the code enters the loop and set the highest probability index in the logit vector to -99 (very low), then it performs a gradient calculation on the loss between the original vector and the new vector. Then, in a forward pass, it updates the data in the x tensor with the calculated gradient and using the learning rate defined. Then, it prints the loss, highest probability from the first logit vector, and the highest probability from the new logit vector. Finally, it resets the gradient, subtracts the lowest value in the vector, and divides by the max value in the vector. Then, the loop runs but ends because the new max probability in the logit vector has changed."
   ]
  },
  {
   "cell_type": "code",
   "execution_count": 24,
   "metadata": {},
   "outputs": [
    {
     "name": "stdout",
     "output_type": "stream",
     "text": [
      "Init idx: 9\n",
      "tensor([-9.2215e+00, -1.4424e+01, -1.1436e+01, -1.0727e+01, -4.4189e+00,\n",
      "        -9.7064e+00, -1.4597e+01, -8.8746e+00, -8.1842e+00, -1.2740e-02],\n",
      "       device='cuda:0', grad_fn=<SqueezeBackward0>)\n",
      "4.40618896484375 -0.012740408070385456 -4.418929576873779\n",
      "\n",
      "tensor(0.0039, device='cuda:0')\n",
      "tensor([-2.2003, -2.1637, -2.2784, -2.2960, -2.4335, -2.4191, -2.5590, -2.3052,\n",
      "        -2.1511, -2.2925], device='cuda:0', grad_fn=<SqueezeBackward0>)\n",
      "Job done, breaking\n",
      "tensor([-2.2003, -2.1637, -2.2784, -2.2960, -2.4335, -2.4191, -2.5590, -2.3052,\n",
      "        -2.1511, -2.2925], device='cuda:0')\n"
     ]
    },
    {
     "data": {
      "text/plain": [
       "8"
      ]
     },
     "execution_count": 24,
     "metadata": {},
     "output_type": "execute_result"
    },
    {
     "data": {
      "image/png": "[encoded data removed]",
      "text/plain": [
       "<Figure size 432x288 with 1 Axes>"
      ]
     },
     "metadata": {
      "needs_background": "light"
     },
     "output_type": "display_data"
    }
   ],
   "source": [
    "model = cnn\n",
    "#torch_X_test = torch_X_test.view(-1,1,28,28).float().type(torch.LongTensor)\n",
    "x = torch_X_test[index].float().clone()\n",
    "x.requires_grad_(True)\n",
    "#print(x.shape)\n",
    "with torch.no_grad():\n",
    "    logits = model(x.unsqueeze(0)).squeeze()\n",
    "    #print(logits.shape)\n",
    "    IMX = torch.argmax(logits)\n",
    "print(\"Init idx:\",IMX.item())\n",
    "    \n",
    "lr=.01 # learning rate?\n",
    "while True:\n",
    "    logits = model(x.unsqueeze(0)).squeeze()\n",
    "    print(logits)\n",
    "    \n",
    "    imx = torch.argmax(logits)\n",
    "    #print(imx)\n",
    "    if imx!=IMX: \n",
    "        print(\"Job done, breaking\")\n",
    "        break\n",
    "    y = logits.clone()\n",
    "    y[imx] = -99\n",
    "    loss = logits.max() - y.max() \n",
    "    loss.backward()\n",
    "    \n",
    "    #print(x.data.shape)\n",
    "    x.data.sub_(lr*x.grad.data)\n",
    "    print(loss.item(),logits.max().item(), y.max().item() )\n",
    "    print()\n",
    "    x.grad.data.zero_()\n",
    "    print(1/x.data.max())\n",
    "    x.data.sub_(x.data.min())\n",
    "    x.data.mul_(1/x.data.max())\n",
    "    \n",
    "with torch.no_grad():\n",
    "    print(model(x.unsqueeze(0)).squeeze())\n",
    "\n",
    "plt.imshow(x.detach().cpu().numpy().transpose(1,2,0).reshape(28,28));torch.argmax(model(x.unsqueeze(0))).item()"
   ]
  },
  {
   "cell_type": "code",
   "execution_count": null,
   "metadata": {},
   "outputs": [],
   "source": []
  }
 ],
 "metadata": {
  "kernelspec": {
   "display_name": "Python 3 (ipykernel)",
   "language": "python",
   "name": "python3"
  },
  "language_info": {
   "codemirror_mode": {
    "name": "ipython",
    "version": 3
   },
   "file_extension": ".py",
   "mimetype": "text/x-python",
   "name": "python",
   "nbconvert_exporter": "python",
   "pygments_lexer": "ipython3",
   "version": "3.8.2"
  }
 },
 "nbformat": 4,
 "nbformat_minor": 4
}
