{
 "cells": [
  {
   "cell_type": "markdown",
   "id": "2894a317",
   "metadata": {},
   "source": [
    "# Rimon Melamed\n",
    "## CSCI6364\n",
    "## HW1"
   ]
  },
  {
   "cell_type": "code",
   "execution_count": 1,
   "id": "8c22a234",
   "metadata": {},
   "outputs": [],
   "source": [
    "import csv \n",
    "import numpy as np\n",
    "from matplotlib import pyplot as plt\n",
    "from sklearn.neighbors import KNeighborsClassifier\n",
    "from sklearn.preprocessing import StandardScaler\n",
    "from sklearn.model_selection import train_test_split"
   ]
  },
  {
   "cell_type": "code",
   "execution_count": 2,
   "id": "eebcec42",
   "metadata": {},
   "outputs": [],
   "source": [
    "# Pre-processing: import the data\n",
    "data_arr = []\n",
    "\n",
    "with open('data_mnist.csv') as csv_file:\n",
    "    data_reader = csv.reader(csv_file, delimiter=',')\n",
    "    for row in data_reader:\n",
    "        data_arr.append(row)"
   ]
  },
  {
   "cell_type": "code",
   "execution_count": 3,
   "id": "87170af7",
   "metadata": {},
   "outputs": [],
   "source": [
    "# Get the labels for the dataset\n",
    "digits = np.array([e[0] for e in data_arr[1::]])"
   ]
  },
  {
   "cell_type": "code",
   "execution_count": 4,
   "id": "f4020b37",
   "metadata": {},
   "outputs": [],
   "source": [
    "# Transform the 1D arrays into 28x28 np image arrays\n",
    "img_list  = [np.array(e[1::], dtype='uint8') for e in data_arr[1::]]\n",
    "imgs = [np.reshape(e, (28, 28)) for e in img_list]"
   ]
  },
  {
   "cell_type": "code",
   "execution_count": 5,
   "id": "bc6f9c95",
   "metadata": {},
   "outputs": [
    {
     "data": {
      "text/plain": [
       "<matplotlib.image.AxesImage at 0x7f8192ef89a0>"
      ]
     },
     "execution_count": 5,
     "metadata": {},
     "output_type": "execute_result"
    },
    {
     "data": {
      "image/png": "[encoded data removed]",
      "text/plain": [
       "<Figure size 432x288 with 1 Axes>"
      ]
     },
     "metadata": {
      "needs_background": "light"
     },
     "output_type": "display_data"
    }
   ],
   "source": [
    "# Show sample image in training data\n",
    "plt.title('Digit: ' + digits[1])\n",
    "plt.imshow(imgs[1], cmap='gray')"
   ]
  },
  {
   "cell_type": "code",
   "execution_count": 6,
   "id": "7d32f01f",
   "metadata": {},
   "outputs": [],
   "source": [
    "# Scale the images to be standardized\n",
    "\n",
    "scaler = StandardScaler()\n",
    "scaled_imgs = np.array([scaler.fit_transform(e) for e in imgs])"
   ]
  },
  {
   "cell_type": "code",
   "execution_count": 7,
   "id": "44efe181",
   "metadata": {},
   "outputs": [],
   "source": [
    "# Split the training data into the training/test data \n",
    "(train_imgs, test_imgs, train_digits, test_digits) = train_test_split(scaled_imgs, digits, test_size=.25, random_state=42)\n",
    "train_imgs = train_imgs.reshape((train_imgs.shape[0], train_imgs.shape[1] * train_imgs.shape[2]))\n",
    "test_imgs = test_imgs.reshape((test_imgs.shape[0], test_imgs.shape[1] * test_imgs.shape[2]))"
   ]
  },
  {
   "cell_type": "code",
   "execution_count": null,
   "id": "a5e8b5ea",
   "metadata": {},
   "outputs": [],
   "source": [
    "# We will try different k values and see how they perform empirically...\n",
    "mean_accuracies = []\n",
    "\n",
    "for k in range(1, 50):\n",
    "    model = KNeighborsClassifier(k)\n",
    "    model.fit(train_imgs, train_digits)\n",
    "    #s = model.score(train_imgs, train_digits)\n",
    "    #test = model.score(test_imgs, test_digits)\n",
    "    mean_accuracies.append(model.score(test_imgs, test_digits))"
   ]
  },
  {
   "cell_type": "code",
   "execution_count": null,
   "id": "7cf59e8a",
   "metadata": {
    "scrolled": true
   },
   "outputs": [],
   "source": [
    "plt.figure(figsize=(10,6))\n",
    "plt.plot(range(1,50),mean_accuracies,color='blue', linestyle='dashed', \n",
    "         marker='o',markerfacecolor='red', markersize=10)\n",
    "plt.title('Mean Accuracy vs. K Value')\n",
    "plt.xlabel('K')\n",
    "plt.ylabel('Mean Accuracy')"
   ]
  },
  {
   "cell_type": "code",
   "execution_count": null,
   "id": "3da05d27",
   "metadata": {},
   "outputs": [],
   "source": [
    "k = 5\n",
    "model = KNeighborsClassifier(k)\n",
    "model.fit(train_imgs, train_digits)"
   ]
  },
  {
   "cell_type": "code",
   "execution_count": null,
   "id": "3c8257f9",
   "metadata": {},
   "outputs": [],
   "source": [
    "# Import test data\n",
    "test_arr = []\n",
    "\n",
    "with open('test_mnist.csv') as csv_file:\n",
    "    data_reader = csv.reader(csv_file, delimiter=',')\n",
    "    for row in data_reader:\n",
    "        test_arr.append(row)"
   ]
  },
  {
   "cell_type": "code",
   "execution_count": null,
   "id": "92f8d515",
   "metadata": {},
   "outputs": [],
   "source": [
    "# Get the test data ready for scoring\n",
    "img_list  = [np.array(e, dtype='uint8') for e in test_arr[1::]]\n",
    "imgs = [np.reshape(e, (28, 28)) for e in img_list]\n",
    "scaled_imgs = np.array([scaler.fit_transform(e) for e in imgs])\n",
    "test_imgs = scaled_imgs.reshape((scaled_imgs.shape[0], scaled_imgs.shape[1] * scaled_imgs.shape[2]))"
   ]
  },
  {
   "cell_type": "code",
   "execution_count": null,
   "id": "b551199d",
   "metadata": {},
   "outputs": [],
   "source": [
    "results = model.predict(test_imgs)"
   ]
  },
  {
   "cell_type": "code",
   "execution_count": null,
   "id": "54287eae",
   "metadata": {},
   "outputs": [],
   "source": [
    "# Write results to file \n",
    "f = open(\"results.dat\", \"w\")\n",
    "f.write(\"ImageID, Label\\n\")\n",
    "i = 1\n",
    "for e in results:\n",
    "    f.write(str(i) + \", \" + e + \"\\n\")\n",
    "    i += 1\n",
    "    \n",
    "f.close()"
   ]
  },
  {
   "cell_type": "markdown",
   "id": "64b16bc0",
   "metadata": {},
   "source": [
    "# Results\n",
    "\n",
    "In order to evaluate my kNN model, and also select an optimal $k$ value, I first iterated over a reasonable amount of $k$ values, trained the split training data on them, and plotted/evaluated the mean accuracy vs the $k$ value. I chose $k$ in the range of $1-50$ since, as a good rule of thumb, $k < sqrt(n)$, and since we have approximately $32,000$ training samples (when taking $75\\%$ of the training samples, as the other $25\\%$ is used for testing in the split data), this seems reasonable. \n",
    "\n"
   ]
  },
  {
   "cell_type": "code",
   "execution_count": null,
   "id": "eea88cb7",
   "metadata": {},
   "outputs": [],
   "source": []
  }
 ],
 "metadata": {
  "kernelspec": {
   "display_name": "Python 3 (ipykernel)",
   "language": "python",
   "name": "python3"
  },
  "language_info": {
   "codemirror_mode": {
    "name": "ipython",
    "version": 3
   },
   "file_extension": ".py",
   "mimetype": "text/x-python",
   "name": "python",
   "nbconvert_exporter": "python",
   "pygments_lexer": "ipython3",
   "version": "3.8.10"
  }
 },
 "nbformat": 4,
 "nbformat_minor": 5
}
