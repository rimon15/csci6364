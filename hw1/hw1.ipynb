{
 "cells": [
  {
   "cell_type": "markdown",
   "id": "2894a317",
   "metadata": {},
   "source": [
    "# Rimon Melamed\n",
    "## CSCI6364\n",
    "## HW1"
   ]
  },
  {
   "cell_type": "code",
   "execution_count": 7,
   "id": "8c22a234",
   "metadata": {},
   "outputs": [],
   "source": [
    "import csv \n",
    "import numpy as np\n",
    "from matplotlib import pyplot as plt\n",
    "from sklearn.neighbors import KNeighborsClassifier\n",
    "from sklearn.preprocessing import StandardScaler\n",
    "from sklearn.model_selection import train_test_split"
   ]
  },
  {
   "cell_type": "code",
   "execution_count": 8,
   "id": "eebcec42",
   "metadata": {},
   "outputs": [],
   "source": [
    "# Pre-processing: import the data\n",
    "data_arr = []\n",
    "\n",
    "with open('data_mnist.csv') as csv_file:\n",
    "    data_reader = csv.reader(csv_file, delimiter=',')\n",
    "    for row in data_reader:\n",
    "        data_arr.append(row)"
   ]
  },
  {
   "cell_type": "code",
   "execution_count": 9,
   "id": "87170af7",
   "metadata": {},
   "outputs": [],
   "source": [
    "# Get the labels for the dataset\n",
    "digits = np.array([e[0] for e in data_arr[1::]])"
   ]
  },
  {
   "cell_type": "code",
   "execution_count": 10,
   "id": "f4020b37",
   "metadata": {},
   "outputs": [],
   "source": [
    "# Transform the 1D arrays into 28x28 np image arrays\n",
    "img_list  = [np.array(e[1::], dtype='uint8') for e in data_arr[1::]]\n",
    "imgs = [np.reshape(e, (28, 28)) for e in img_list]"
   ]
  },
  {
   "cell_type": "code",
   "execution_count": 11,
   "id": "bc6f9c95",
   "metadata": {},
   "outputs": [
    {
     "data": {
      "text/plain": [
       "<matplotlib.image.AxesImage at 0x7fbe05b35940>"
      ]
     },
     "execution_count": 11,
     "metadata": {},
     "output_type": "execute_result"
    },
    {
     "data": {
      "image/png": "[encoded data removed]",
      "text/plain": [
       "<Figure size 432x288 with 1 Axes>"
      ]
     },
     "metadata": {
      "needs_background": "light"
     },
     "output_type": "display_data"
    }
   ],
   "source": [
    "# Show sample image in training data\n",
    "plt.title('Digit: ' + digits[1])\n",
    "plt.imshow(imgs[1], cmap='gray')"
   ]
  },
  {
   "cell_type": "code",
   "execution_count": 12,
   "id": "7d32f01f",
   "metadata": {},
   "outputs": [],
   "source": [
    "# Scale the images to be standardized\n",
    "\n",
    "scaler = StandardScaler()\n",
    "scaled_imgs = np.array([scaler.fit_transform(e) for e in imgs])"
   ]
  },
  {
   "cell_type": "code",
   "execution_count": 13,
   "id": "44efe181",
   "metadata": {},
   "outputs": [],
   "source": [
    "# Split the training data into the training/test data \n",
    "(train_imgs, test_imgs, train_digits, test_digits) = train_test_split(scaled_imgs, digits, test_size=.25,\\\n",
    "                                                                      random_state=42, stratify=digits)\n",
    "train_imgs = train_imgs.reshape((train_imgs.shape[0], train_imgs.shape[1] * train_imgs.shape[2]))\n",
    "test_imgs = test_imgs.reshape((test_imgs.shape[0], test_imgs.shape[1] * test_imgs.shape[2]))"
   ]
  },
  {
   "cell_type": "code",
   "execution_count": 14,
   "id": "a5e8b5ea",
   "metadata": {},
   "outputs": [],
   "source": [
    "# We will try different k values and see how they perform empirically based on the mean accuracies..\n",
    "mean_accuracies = []\n",
    "\n",
    "for k in range(1, 50):\n",
    "    model = KNeighborsClassifier(k)\n",
    "    model.fit(train_imgs, train_digits)\n",
    "    mean_accuracies.append(model.score(test_imgs, test_digits))"
   ]
  },
  {
   "cell_type": "code",
   "execution_count": 15,
   "id": "7cf59e8a",
   "metadata": {
    "scrolled": true
   },
   "outputs": [
    {
     "data": {
      "text/plain": [
       "Text(0, 0.5, 'Mean Accuracy')"
      ]
     },
     "execution_count": 15,
     "metadata": {},
     "output_type": "execute_result"
    },
    {
     "data": {
      "image/png": "[encoded data removed]",
      "text/plain": [
       "<Figure size 720x432 with 1 Axes>"
      ]
     },
     "metadata": {
      "needs_background": "light"
     },
     "output_type": "display_data"
    }
   ],
   "source": [
    "plt.figure(figsize=(10,6))\n",
    "plt.plot(range(1,50),mean_accuracies,color='blue', linestyle='dashed', \n",
    "         marker='o',markerfacecolor='red', markersize=10)\n",
    "plt.title('Mean Accuracy vs. K Value')\n",
    "plt.xlabel('K')\n",
    "plt.ylabel('Mean Accuracy')"
   ]
  },
  {
   "cell_type": "code",
   "execution_count": 16,
   "id": "3da05d27",
   "metadata": {},
   "outputs": [
    {
     "data": {
      "text/plain": [
       "KNeighborsClassifier(n_neighbors=3)"
      ]
     },
     "execution_count": 16,
     "metadata": {},
     "output_type": "execute_result"
    }
   ],
   "source": [
    "k = 3\n",
    "model = KNeighborsClassifier(k)\n",
    "model.fit(train_imgs, train_digits)"
   ]
  },
  {
   "cell_type": "code",
   "execution_count": 17,
   "id": "3c8257f9",
   "metadata": {},
   "outputs": [],
   "source": [
    "# Import test data\n",
    "test_arr = []\n",
    "\n",
    "with open('test_mnist.csv') as csv_file:\n",
    "    data_reader = csv.reader(csv_file, delimiter=',')\n",
    "    for row in data_reader:\n",
    "        test_arr.append(row)"
   ]
  },
  {
   "cell_type": "code",
   "execution_count": 18,
   "id": "92f8d515",
   "metadata": {},
   "outputs": [],
   "source": [
    "# Get the test data ready for scoring\n",
    "img_list  = [np.array(e, dtype='uint8') for e in test_arr[1::]]\n",
    "imgs = [np.reshape(e, (28, 28)) for e in img_list]\n",
    "scaled_imgs = np.array([scaler.fit_transform(e) for e in imgs])\n",
    "test_imgs = scaled_imgs.reshape((scaled_imgs.shape[0], scaled_imgs.shape[1] * scaled_imgs.shape[2]))"
   ]
  },
  {
   "cell_type": "code",
   "execution_count": 19,
   "id": "b551199d",
   "metadata": {},
   "outputs": [],
   "source": [
    "results = model.predict(test_imgs)"
   ]
  },
  {
   "cell_type": "code",
   "execution_count": 20,
   "id": "54287eae",
   "metadata": {},
   "outputs": [],
   "source": [
    "# Write results to file \n",
    "f = open(\"results.dat\", \"w\")\n",
    "f.write(\"ImageID,Label\\n\")\n",
    "i = 1\n",
    "for e in results:\n",
    "    f.write(str(i) + \",\" + e + \"\\n\")\n",
    "    i += 1\n",
    "    \n",
    "f.close()"
   ]
  },
  {
   "cell_type": "markdown",
   "id": "64b16bc0",
   "metadata": {},
   "source": [
    "# Results\n",
    "\n",
    "In order to evaluate my kNN model, and also select an optimal $k$ value, I first iterated over a reasonable amount of $k$ values, trained the split training data on them, and plotted/evaluated the mean accuracy vs the $k$ value. I chose $k$ in the range of $1-50$ since, as a good rule of thumb, $k < \\sqrt{n}$, and since we have approximately $32,000$ training samples (when taking $75\\%$ of the training samples, as the other $25\\%$ is used for testing in the split data), this seems reasonable. \n",
    "\n",
    "<br/>\n",
    "\n",
    "As is clear from the graph of Mean Accuracy vs $k$ value, we can see that the mean accuracy decreases as $k$ becomes increasingly larger, since the algorithm takes more data into account for each training image, and this increases the overall complexity of the model, making it worse for generalization (overfitting) of the test set. I chose $k = 3$ as it seems to yield good mean accuracy in the dataset, without over/underfitting the data, so it should generalize well for the test data. Another observation I had with the kNN approach for this dataset is that a major disadvantage of kNN is the performance of the algorithm. Since we must compute the closest neighbors for each training sample, this gives a worst case runtime of $O(nm)$ where $n$ is the number of training samples and $m$ is the number of dimensions of the training set... a rather expensive algorithm.\n",
    "\n",
    "<br/>\n",
    "\n",
    "Another factor we did not account for above is our model could currently provide a higher variance result for the test data which is not included in the training data, since depending on the split, we could see less examples of certain classes (digits), causing further issues to the model. We can overcome this issue by using k-fold cross-validation with $k=10$ for the number of folds, which has been found empirically to be a good value to provide lower bias and variance. After doing additional research into the various libraries provided by sklearn, I found the GridSearchCV class, which, given a set of different parameters, feeds it into a parameter grid, and attempts to produce the best combination of parameters (in our case just $k$) through cross validation. The method with which it selects the \"best\" parameter is up to user specification, and can include, accuracy, F1 score, etc. Below I used this method to determine a $k$ value, and according to the algorithm, $k=4$ seems to be the best fit. This result seems interesting to me since in this classification problem, we have an even number of classes (digits 0-9), I would think it would be a good idea to pick an odd number of the $k$ value in order to avoid ties.\n",
    "\n",
    "<br/>\n",
    "\n",
    "Overall, I decided to use the $k=3$ that I determined earlier for computing the final results."
   ]
  },
  {
   "cell_type": "code",
   "execution_count": 21,
   "id": "fbcfa741",
   "metadata": {
    "scrolled": true
   },
   "outputs": [
    {
     "name": "stdout",
     "output_type": "stream",
     "text": [
      "Fitting 10 folds for each of 9 candidates, totalling 90 fits\n",
      "[CV] END ......................................n_neighbors=1; total time=   1.8s\n",
      "[CV] END ......................................n_neighbors=1; total time=   1.9s\n",
      "[CV] END ......................................n_neighbors=1; total time=   1.7s\n",
      "[CV] END ......................................n_neighbors=1; total time=   1.8s\n",
      "[CV] END ......................................n_neighbors=1; total time=   1.8s\n",
      "[CV] END ......................................n_neighbors=1; total time=   1.9s\n",
      "[CV] END ......................................n_neighbors=1; total time=   1.8s\n",
      "[CV] END ......................................n_neighbors=1; total time=   1.8s\n",
      "[CV] END ......................................n_neighbors=1; total time=   1.8s\n",
      "[CV] END ......................................n_neighbors=1; total time=   1.8s\n",
      "[CV] END ......................................n_neighbors=2; total time=   1.9s\n",
      "[CV] END ......................................n_neighbors=2; total time=   2.0s\n",
      "[CV] END ......................................n_neighbors=2; total time=   2.1s\n",
      "[CV] END ......................................n_neighbors=2; total time=   2.0s\n",
      "[CV] END ......................................n_neighbors=2; total time=   2.0s\n",
      "[CV] END ......................................n_neighbors=2; total time=   2.3s\n",
      "[CV] END ......................................n_neighbors=2; total time=   2.1s\n",
      "[CV] END ......................................n_neighbors=2; total time=   2.0s\n",
      "[CV] END ......................................n_neighbors=2; total time=   2.1s\n",
      "[CV] END ......................................n_neighbors=2; total time=   1.9s\n",
      "[CV] END ......................................n_neighbors=3; total time=   2.0s\n",
      "[CV] END ......................................n_neighbors=3; total time=   2.1s\n",
      "[CV] END ......................................n_neighbors=3; total time=   2.1s\n",
      "[CV] END ......................................n_neighbors=3; total time=   2.0s\n",
      "[CV] END ......................................n_neighbors=3; total time=   2.0s\n",
      "[CV] END ......................................n_neighbors=3; total time=   2.1s\n",
      "[CV] END ......................................n_neighbors=3; total time=   2.2s\n",
      "[CV] END ......................................n_neighbors=3; total time=   2.0s\n",
      "[CV] END ......................................n_neighbors=3; total time=   2.0s\n",
      "[CV] END ......................................n_neighbors=3; total time=   2.1s\n",
      "[CV] END ......................................n_neighbors=4; total time=   2.7s\n",
      "[CV] END ......................................n_neighbors=4; total time=   2.7s\n",
      "[CV] END ......................................n_neighbors=4; total time=   2.8s\n",
      "[CV] END ......................................n_neighbors=4; total time=   2.8s\n",
      "[CV] END ......................................n_neighbors=4; total time=   2.8s\n",
      "[CV] END ......................................n_neighbors=4; total time=   2.6s\n",
      "[CV] END ......................................n_neighbors=4; total time=   2.7s\n",
      "[CV] END ......................................n_neighbors=4; total time=   2.7s\n",
      "[CV] END ......................................n_neighbors=4; total time=   2.6s\n",
      "[CV] END ......................................n_neighbors=4; total time=   2.7s\n",
      "[CV] END ......................................n_neighbors=5; total time=   2.6s\n",
      "[CV] END ......................................n_neighbors=5; total time=   2.6s\n",
      "[CV] END ......................................n_neighbors=5; total time=   2.7s\n",
      "[CV] END ......................................n_neighbors=5; total time=   2.6s\n",
      "[CV] END ......................................n_neighbors=5; total time=   2.8s\n",
      "[CV] END ......................................n_neighbors=5; total time=   2.7s\n",
      "[CV] END ......................................n_neighbors=5; total time=   2.7s\n",
      "[CV] END ......................................n_neighbors=5; total time=   2.7s\n",
      "[CV] END ......................................n_neighbors=5; total time=   2.8s\n",
      "[CV] END ......................................n_neighbors=5; total time=   2.7s\n",
      "[CV] END ......................................n_neighbors=6; total time=   2.7s\n",
      "[CV] END ......................................n_neighbors=6; total time=   2.7s\n",
      "[CV] END ......................................n_neighbors=6; total time=   2.6s\n",
      "[CV] END ......................................n_neighbors=6; total time=   2.8s\n",
      "[CV] END ......................................n_neighbors=6; total time=   2.7s\n",
      "[CV] END ......................................n_neighbors=6; total time=   2.6s\n",
      "[CV] END ......................................n_neighbors=6; total time=   2.7s\n",
      "[CV] END ......................................n_neighbors=6; total time=   2.7s\n",
      "[CV] END ......................................n_neighbors=6; total time=   2.6s\n",
      "[CV] END ......................................n_neighbors=6; total time=   2.7s\n",
      "[CV] END ......................................n_neighbors=7; total time=   2.6s\n",
      "[CV] END ......................................n_neighbors=7; total time=   2.7s\n",
      "[CV] END ......................................n_neighbors=7; total time=   2.7s\n",
      "[CV] END ......................................n_neighbors=7; total time=   2.6s\n",
      "[CV] END ......................................n_neighbors=7; total time=   2.7s\n",
      "[CV] END ......................................n_neighbors=7; total time=   2.6s\n",
      "[CV] END ......................................n_neighbors=7; total time=   2.7s\n",
      "[CV] END ......................................n_neighbors=7; total time=   2.7s\n",
      "[CV] END ......................................n_neighbors=7; total time=   2.6s\n",
      "[CV] END ......................................n_neighbors=7; total time=   2.7s\n",
      "[CV] END ......................................n_neighbors=8; total time=   2.6s\n",
      "[CV] END ......................................n_neighbors=8; total time=   2.7s\n",
      "[CV] END ......................................n_neighbors=8; total time=   2.6s\n",
      "[CV] END ......................................n_neighbors=8; total time=   2.7s\n",
      "[CV] END ......................................n_neighbors=8; total time=   2.7s\n",
      "[CV] END ......................................n_neighbors=8; total time=   2.6s\n",
      "[CV] END ......................................n_neighbors=8; total time=   3.0s\n",
      "[CV] END ......................................n_neighbors=8; total time=   2.8s\n",
      "[CV] END ......................................n_neighbors=8; total time=   2.6s\n",
      "[CV] END ......................................n_neighbors=8; total time=   2.6s\n",
      "[CV] END ......................................n_neighbors=9; total time=   2.7s\n",
      "[CV] END ......................................n_neighbors=9; total time=   2.7s\n",
      "[CV] END ......................................n_neighbors=9; total time=   2.6s\n",
      "[CV] END ......................................n_neighbors=9; total time=   2.8s\n",
      "[CV] END ......................................n_neighbors=9; total time=   2.7s\n",
      "[CV] END ......................................n_neighbors=9; total time=   2.6s\n",
      "[CV] END ......................................n_neighbors=9; total time=   2.6s\n",
      "[CV] END ......................................n_neighbors=9; total time=   2.6s\n",
      "[CV] END ......................................n_neighbors=9; total time=   2.6s\n",
      "[CV] END ......................................n_neighbors=9; total time=   2.6s\n"
     ]
    }
   ],
   "source": [
    "# Use GridSearchCV to attempt to find an optimal k value, and compare to my results above\n",
    "from sklearn.model_selection import GridSearchCV\n",
    "\n",
    "param_grid = dict(n_neighbors=range(1, 10))\n",
    "grid = GridSearchCV(model, param_grid, cv=10, scoring='accuracy', verbose=2)\n",
    "grid_search = grid.fit(train_imgs, train_digits)"
   ]
  },
  {
   "cell_type": "code",
   "execution_count": 22,
   "id": "a58cef56",
   "metadata": {},
   "outputs": [
    {
     "name": "stdout",
     "output_type": "stream",
     "text": [
      "{'n_neighbors': 4}\n"
     ]
    }
   ],
   "source": [
    "print(grid_search.best_params_)"
   ]
  },
  {
   "cell_type": "code",
   "execution_count": null,
   "id": "357a9e66",
   "metadata": {},
   "outputs": [],
   "source": []
  }
 ],
 "metadata": {
  "kernelspec": {
   "display_name": "Python 3",
   "language": "python",
   "name": "python3"
  },
  "language_info": {
   "codemirror_mode": {
    "name": "ipython",
    "version": 3
   },
   "file_extension": ".py",
   "mimetype": "text/x-python",
   "name": "python",
   "nbconvert_exporter": "python",
   "pygments_lexer": "ipython3",
   "version": "3.6.3"
  }
 },
 "nbformat": 4,
 "nbformat_minor": 5
}
